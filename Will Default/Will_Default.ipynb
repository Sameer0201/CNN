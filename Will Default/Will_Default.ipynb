{
 "cells": [
  {
   "cell_type": "markdown",
   "metadata": {},
   "source": [
    "# Sameer Gupta"
   ]
  },
  {
   "cell_type": "markdown",
   "metadata": {},
   "source": [
    "## Section 1: Loading and processing the data\n",
    "\n",
    "In this section you will load the data from the file `UCI_Credit_Card.csv` and process it appropriately. You will also perform the train-test split in this section. The train-test split we want you to use is 80% for training and 20% for testing."
   ]
  },
  {
   "cell_type": "markdown",
   "metadata": {},
   "source": [
    "First I imported all the required packages to run my program."
   ]
  },
  {
   "cell_type": "code",
   "execution_count": 1,
   "metadata": {},
   "outputs": [
    {
     "name": "stderr",
     "output_type": "stream",
     "text": [
      "Using TensorFlow backend.\n"
     ]
    }
   ],
   "source": [
    "import matplotlib.pyplot as plt\n",
    "import numpy as np\n",
    "import pandas as pd\n",
    "from keras.layers import Dense\n",
    "from keras.models import Sequential\n",
    "from sklearn.utils import shuffle"
   ]
  },
  {
   "cell_type": "markdown",
   "metadata": {},
   "source": [
    "We'll now import the CSV file with our data. I parsed all the data values from our dataset. Then with trial and error I choose the best features represented the data and dropped around 13 data values. "
   ]
  },
  {
   "cell_type": "code",
   "execution_count": 2,
   "metadata": {
    "scrolled": true
   },
   "outputs": [
    {
     "data": {
      "text/html": [
       "<div>\n",
       "<style scoped>\n",
       "    .dataframe tbody tr th:only-of-type {\n",
       "        vertical-align: middle;\n",
       "    }\n",
       "\n",
       "    .dataframe tbody tr th {\n",
       "        vertical-align: top;\n",
       "    }\n",
       "\n",
       "    .dataframe thead th {\n",
       "        text-align: right;\n",
       "    }\n",
       "</style>\n",
       "<table border=\"1\" class=\"dataframe\">\n",
       "  <thead>\n",
       "    <tr style=\"text-align: right;\">\n",
       "      <th></th>\n",
       "      <th>LIMIT_BAL</th>\n",
       "      <th>EDUCATION</th>\n",
       "      <th>AGE</th>\n",
       "      <th>PAY_0</th>\n",
       "      <th>PAY_2</th>\n",
       "      <th>PAY_3</th>\n",
       "      <th>BILL_AMT1</th>\n",
       "      <th>BILL_AMT2</th>\n",
       "      <th>BILL_AMT3</th>\n",
       "      <th>PAY_AMT1</th>\n",
       "      <th>PAY_AMT2</th>\n",
       "      <th>PAY_AMT3</th>\n",
       "      <th>default.payment.next.month</th>\n",
       "    </tr>\n",
       "  </thead>\n",
       "  <tbody>\n",
       "    <tr>\n",
       "      <th>0</th>\n",
       "      <td>20000.0</td>\n",
       "      <td>2</td>\n",
       "      <td>24</td>\n",
       "      <td>2</td>\n",
       "      <td>2</td>\n",
       "      <td>-1</td>\n",
       "      <td>3913.0</td>\n",
       "      <td>3102.0</td>\n",
       "      <td>689.0</td>\n",
       "      <td>0.0</td>\n",
       "      <td>689.0</td>\n",
       "      <td>0.0</td>\n",
       "      <td>1</td>\n",
       "    </tr>\n",
       "    <tr>\n",
       "      <th>1</th>\n",
       "      <td>120000.0</td>\n",
       "      <td>2</td>\n",
       "      <td>26</td>\n",
       "      <td>-1</td>\n",
       "      <td>2</td>\n",
       "      <td>0</td>\n",
       "      <td>2682.0</td>\n",
       "      <td>1725.0</td>\n",
       "      <td>2682.0</td>\n",
       "      <td>0.0</td>\n",
       "      <td>1000.0</td>\n",
       "      <td>1000.0</td>\n",
       "      <td>1</td>\n",
       "    </tr>\n",
       "    <tr>\n",
       "      <th>2</th>\n",
       "      <td>90000.0</td>\n",
       "      <td>2</td>\n",
       "      <td>34</td>\n",
       "      <td>0</td>\n",
       "      <td>0</td>\n",
       "      <td>0</td>\n",
       "      <td>29239.0</td>\n",
       "      <td>14027.0</td>\n",
       "      <td>13559.0</td>\n",
       "      <td>1518.0</td>\n",
       "      <td>1500.0</td>\n",
       "      <td>1000.0</td>\n",
       "      <td>0</td>\n",
       "    </tr>\n",
       "    <tr>\n",
       "      <th>3</th>\n",
       "      <td>50000.0</td>\n",
       "      <td>2</td>\n",
       "      <td>37</td>\n",
       "      <td>0</td>\n",
       "      <td>0</td>\n",
       "      <td>0</td>\n",
       "      <td>46990.0</td>\n",
       "      <td>48233.0</td>\n",
       "      <td>49291.0</td>\n",
       "      <td>2000.0</td>\n",
       "      <td>2019.0</td>\n",
       "      <td>1200.0</td>\n",
       "      <td>0</td>\n",
       "    </tr>\n",
       "    <tr>\n",
       "      <th>4</th>\n",
       "      <td>50000.0</td>\n",
       "      <td>2</td>\n",
       "      <td>57</td>\n",
       "      <td>-1</td>\n",
       "      <td>0</td>\n",
       "      <td>-1</td>\n",
       "      <td>8617.0</td>\n",
       "      <td>5670.0</td>\n",
       "      <td>35835.0</td>\n",
       "      <td>2000.0</td>\n",
       "      <td>36681.0</td>\n",
       "      <td>10000.0</td>\n",
       "      <td>0</td>\n",
       "    </tr>\n",
       "  </tbody>\n",
       "</table>\n",
       "</div>"
      ],
      "text/plain": [
       "   LIMIT_BAL  EDUCATION  AGE  PAY_0  PAY_2  PAY_3  BILL_AMT1  BILL_AMT2  \\\n",
       "0    20000.0          2   24      2      2     -1     3913.0     3102.0   \n",
       "1   120000.0          2   26     -1      2      0     2682.0     1725.0   \n",
       "2    90000.0          2   34      0      0      0    29239.0    14027.0   \n",
       "3    50000.0          2   37      0      0      0    46990.0    48233.0   \n",
       "4    50000.0          2   57     -1      0     -1     8617.0     5670.0   \n",
       "\n",
       "   BILL_AMT3  PAY_AMT1  PAY_AMT2  PAY_AMT3  default.payment.next.month  \n",
       "0      689.0       0.0     689.0       0.0                           1  \n",
       "1     2682.0       0.0    1000.0    1000.0                           1  \n",
       "2    13559.0    1518.0    1500.0    1000.0                           0  \n",
       "3    49291.0    2000.0    2019.0    1200.0                           0  \n",
       "4    35835.0    2000.0   36681.0   10000.0                           0  "
      ]
     },
     "execution_count": 2,
     "metadata": {},
     "output_type": "execute_result"
    }
   ],
   "source": [
    "file_name = 'UCI_Credit_card.csv'\n",
    "\n",
    "columns = [\n",
    "    'ID',\n",
    "    'LIMIT_BAL',\n",
    "    'SEX',\n",
    "    'EDUCATION',\n",
    "    'MARRIAGE',\n",
    "    'AGE',\n",
    "    'PAY_0',\n",
    "    'PAY_2',\n",
    "    'PAY_3',\n",
    "    'PAY_4',\n",
    "    'PAY_5',\n",
    "    'PAY_6',\n",
    "    'BILL_AMT1',\n",
    "    'BILL_AMT2',\n",
    "    'BILL_AMT3',\n",
    "    'BILL_AMT4',\n",
    "    'BILL_AMT5',\n",
    "    'BILL_AMT6',\n",
    "    'PAY_AMT1',\n",
    "    'PAY_AMT2',\n",
    "    'PAY_AMT3',\n",
    "    'PAY_AMT4',\n",
    "    'PAY_AMT5',\n",
    "    'PAY_AMT6',\n",
    "    'default.payment.next.month'\n",
    "]\n",
    "\n",
    "df = pd.read_csv(file_name,names=columns,delimiter=',',header=-1)\n",
    "df = df.drop(df.columns[[0,2,4,9,10,11,15,16,17,21,22,23]], axis=1)\n",
    "df.head()"
   ]
  },
  {
   "cell_type": "markdown",
   "metadata": {},
   "source": [
    "Here is a peak into the dataset and the selected features, now using a simple formula we will normalize our dataset. "
   ]
  },
  {
   "cell_type": "code",
   "execution_count": 3,
   "metadata": {},
   "outputs": [],
   "source": [
    "for feature in df.columns[:-1]:\n",
    "    max_value = df[feature].max()\n",
    "    min_value = df[feature].min()\n",
    "    mean_value = df[feature].mean()\n",
    "    df[feature] = (df[feature] - mean_value)/(max_value - min_value)    "
   ]
  },
  {
   "cell_type": "markdown",
   "metadata": {},
   "source": [
    "Below is our normalized dataframe. As you can see every value in the data is normalized between -1 and 1. This applies to all except the last column representing whether the person defaulted on their credit score. "
   ]
  },
  {
   "cell_type": "code",
   "execution_count": 4,
   "metadata": {},
   "outputs": [
    {
     "data": {
      "text/html": [
       "<div>\n",
       "<style scoped>\n",
       "    .dataframe tbody tr th:only-of-type {\n",
       "        vertical-align: middle;\n",
       "    }\n",
       "\n",
       "    .dataframe tbody tr th {\n",
       "        vertical-align: top;\n",
       "    }\n",
       "\n",
       "    .dataframe thead th {\n",
       "        text-align: right;\n",
       "    }\n",
       "</style>\n",
       "<table border=\"1\" class=\"dataframe\">\n",
       "  <thead>\n",
       "    <tr style=\"text-align: right;\">\n",
       "      <th></th>\n",
       "      <th>LIMIT_BAL</th>\n",
       "      <th>EDUCATION</th>\n",
       "      <th>AGE</th>\n",
       "      <th>PAY_0</th>\n",
       "      <th>PAY_2</th>\n",
       "      <th>PAY_3</th>\n",
       "      <th>BILL_AMT1</th>\n",
       "      <th>BILL_AMT2</th>\n",
       "      <th>BILL_AMT3</th>\n",
       "      <th>PAY_AMT1</th>\n",
       "      <th>PAY_AMT2</th>\n",
       "      <th>PAY_AMT3</th>\n",
       "      <th>default.payment.next.month</th>\n",
       "    </tr>\n",
       "  </thead>\n",
       "  <tbody>\n",
       "    <tr>\n",
       "      <th>0</th>\n",
       "      <td>-0.148974</td>\n",
       "      <td>0.024478</td>\n",
       "      <td>-0.198026</td>\n",
       "      <td>0.20167</td>\n",
       "      <td>0.213377</td>\n",
       "      <td>-0.08338</td>\n",
       "      <td>-0.041864</td>\n",
       "      <td>-0.043729</td>\n",
       "      <td>-0.025434</td>\n",
       "      <td>-0.006483</td>\n",
       "      <td>-0.003107</td>\n",
       "      <td>-0.005832</td>\n",
       "      <td>1</td>\n",
       "    </tr>\n",
       "    <tr>\n",
       "      <th>1</th>\n",
       "      <td>-0.047964</td>\n",
       "      <td>0.024478</td>\n",
       "      <td>-0.163543</td>\n",
       "      <td>-0.09833</td>\n",
       "      <td>0.213377</td>\n",
       "      <td>0.01662</td>\n",
       "      <td>-0.042953</td>\n",
       "      <td>-0.045035</td>\n",
       "      <td>-0.024340</td>\n",
       "      <td>-0.006483</td>\n",
       "      <td>-0.002922</td>\n",
       "      <td>-0.004716</td>\n",
       "      <td>1</td>\n",
       "    </tr>\n",
       "    <tr>\n",
       "      <th>2</th>\n",
       "      <td>-0.078267</td>\n",
       "      <td>0.024478</td>\n",
       "      <td>-0.025612</td>\n",
       "      <td>0.00167</td>\n",
       "      <td>0.013377</td>\n",
       "      <td>0.01662</td>\n",
       "      <td>-0.019454</td>\n",
       "      <td>-0.033360</td>\n",
       "      <td>-0.018368</td>\n",
       "      <td>-0.004746</td>\n",
       "      <td>-0.002625</td>\n",
       "      <td>-0.004716</td>\n",
       "      <td>0</td>\n",
       "    </tr>\n",
       "    <tr>\n",
       "      <th>3</th>\n",
       "      <td>-0.118671</td>\n",
       "      <td>0.024478</td>\n",
       "      <td>0.026112</td>\n",
       "      <td>0.00167</td>\n",
       "      <td>0.013377</td>\n",
       "      <td>0.01662</td>\n",
       "      <td>-0.003746</td>\n",
       "      <td>-0.000898</td>\n",
       "      <td>0.001251</td>\n",
       "      <td>-0.004194</td>\n",
       "      <td>-0.002317</td>\n",
       "      <td>-0.004493</td>\n",
       "      <td>0</td>\n",
       "    </tr>\n",
       "    <tr>\n",
       "      <th>4</th>\n",
       "      <td>-0.118671</td>\n",
       "      <td>0.024478</td>\n",
       "      <td>0.370940</td>\n",
       "      <td>-0.09833</td>\n",
       "      <td>0.013377</td>\n",
       "      <td>-0.08338</td>\n",
       "      <td>-0.037702</td>\n",
       "      <td>-0.041291</td>\n",
       "      <td>-0.006137</td>\n",
       "      <td>-0.004194</td>\n",
       "      <td>0.018263</td>\n",
       "      <td>0.005328</td>\n",
       "      <td>0</td>\n",
       "    </tr>\n",
       "  </tbody>\n",
       "</table>\n",
       "</div>"
      ],
      "text/plain": [
       "   LIMIT_BAL  EDUCATION       AGE    PAY_0     PAY_2    PAY_3  BILL_AMT1  \\\n",
       "0  -0.148974   0.024478 -0.198026  0.20167  0.213377 -0.08338  -0.041864   \n",
       "1  -0.047964   0.024478 -0.163543 -0.09833  0.213377  0.01662  -0.042953   \n",
       "2  -0.078267   0.024478 -0.025612  0.00167  0.013377  0.01662  -0.019454   \n",
       "3  -0.118671   0.024478  0.026112  0.00167  0.013377  0.01662  -0.003746   \n",
       "4  -0.118671   0.024478  0.370940 -0.09833  0.013377 -0.08338  -0.037702   \n",
       "\n",
       "   BILL_AMT2  BILL_AMT3  PAY_AMT1  PAY_AMT2  PAY_AMT3  \\\n",
       "0  -0.043729  -0.025434 -0.006483 -0.003107 -0.005832   \n",
       "1  -0.045035  -0.024340 -0.006483 -0.002922 -0.004716   \n",
       "2  -0.033360  -0.018368 -0.004746 -0.002625 -0.004716   \n",
       "3  -0.000898   0.001251 -0.004194 -0.002317 -0.004493   \n",
       "4  -0.041291  -0.006137 -0.004194  0.018263  0.005328   \n",
       "\n",
       "   default.payment.next.month  \n",
       "0                           1  \n",
       "1                           1  \n",
       "2                           0  \n",
       "3                           0  \n",
       "4                           0  "
      ]
     },
     "execution_count": 4,
     "metadata": {},
     "output_type": "execute_result"
    }
   ],
   "source": [
    "df.head()"
   ]
  },
  {
   "cell_type": "markdown",
   "metadata": {},
   "source": [
    "Now we will intialize our class representing our data and the respected YES-NO values for the dataframe as labels. "
   ]
  },
  {
   "cell_type": "code",
   "execution_count": 5,
   "metadata": {},
   "outputs": [],
   "source": [
    "class creditScore:\n",
    "    def __init__(self,features,label):\n",
    "        self.features = features\n",
    "        self.label = label"
   ]
  },
  {
   "cell_type": "code",
   "execution_count": 6,
   "metadata": {},
   "outputs": [],
   "source": [
    "data = []\n",
    "for row in df.itertuples():\n",
    "    label = row[13]\n",
    "    features = row[1:13]\n",
    "    credit = creditScore(features,label)\n",
    "    data.append(credit)"
   ]
  },
  {
   "cell_type": "markdown",
   "metadata": {},
   "source": [
    "Here we test/train split at 80% for training and 20% for testing the data."
   ]
  },
  {
   "cell_type": "code",
   "execution_count": 7,
   "metadata": {},
   "outputs": [
    {
     "name": "stdout",
     "output_type": "stream",
     "text": [
      "Total Examples: 30000\n",
      "Train Examples: 24000\n",
      "Test Examples: 6000\n"
     ]
    }
   ],
   "source": [
    "data = shuffle(data)\n",
    "split_index = int(0.8*len(data))\n",
    "train = data[:split_index]\n",
    "test = data[split_index:]\n",
    "\n",
    "X_train = np.array([example.features for example in train])\n",
    "Y_train = np.array([example.label for example in train])\n",
    "X_test = np.array([example.features for example in test])\n",
    "Y_test = np.array([example.label for example in test])\n",
    "\n",
    "print('Total Examples: {:}\\nTrain Examples: {:}\\nTest Examples: {:4d}'.format(len(data), len(X_train), len(X_test)))"
   ]
  },
  {
   "cell_type": "markdown",
   "metadata": {},
   "source": [
    "## Section 2: Building the model\n",
    "\n",
    "In this section you will write all the code to build your model in Keras. The model should output a single number between 0 and 1 which is the probability which represents whether the individual will default or not."
   ]
  },
  {
   "cell_type": "markdown",
   "metadata": {},
   "source": [
    "Now we will use a sequential model for dataframe. We have 11 input values and one YES/NO output value which is represented by the sigmoid(confidence) function. Again the number of nodes in each layer(except the output layer)was selected by trial and error. The trend I saw was that when we increase the number of nodes in each layer, the accurary of model increases, which makes sense because the the dataframe has a large number of features(11). "
   ]
  },
  {
   "cell_type": "code",
   "execution_count": 8,
   "metadata": {},
   "outputs": [],
   "source": [
    "model = Sequential()\n",
    "model.add(Dense(16, input_dim=12, activation='relu'))\n",
    "model.add(Dense(12, activation='relu'))\n",
    "model.add(Dense(1, activation='sigmoid'))"
   ]
  },
  {
   "cell_type": "code",
   "execution_count": 9,
   "metadata": {},
   "outputs": [],
   "source": [
    "model.compile(loss='binary_crossentropy', optimizer='adam', metrics=['accuracy'])"
   ]
  },
  {
   "cell_type": "markdown",
   "metadata": {},
   "source": [
    "## Section 3: Training the model\n",
    "\n",
    "In this section you will write all the coded needed to train your model on the data from Section 0. Make sure you **dont** train the model on the data you will test on!"
   ]
  },
  {
   "cell_type": "markdown",
   "metadata": {},
   "source": [
    "Now we will test our data using the data we had set aside for testing. We will run the model 20 times over our dataframe. We reduced the batch size so it runs the test data 10 at a time. "
   ]
  },
  {
   "cell_type": "code",
   "execution_count": 10,
   "metadata": {},
   "outputs": [
    {
     "name": "stdout",
     "output_type": "stream",
     "text": [
      "Epoch 1/20\n",
      "24000/24000 [==============================] - 4s 179us/step - loss: 0.4680 - acc: 0.8049\n",
      "Epoch 2/20\n",
      "24000/24000 [==============================] - 4s 160us/step - loss: 0.4473 - acc: 0.8160\n",
      "Epoch 3/20\n",
      "24000/24000 [==============================] - 4s 162us/step - loss: 0.4440 - acc: 0.8172\n",
      "Epoch 4/20\n",
      "24000/24000 [==============================] - 4s 162us/step - loss: 0.4416 - acc: 0.8187\n",
      "Epoch 5/20\n",
      "24000/24000 [==============================] - 4s 167us/step - loss: 0.4401 - acc: 0.8184\n",
      "Epoch 6/20\n",
      "24000/24000 [==============================] - 4s 161us/step - loss: 0.4388 - acc: 0.8188\n",
      "Epoch 7/20\n",
      "24000/24000 [==============================] - 4s 162us/step - loss: 0.4382 - acc: 0.8196\n",
      "Epoch 8/20\n",
      "24000/24000 [==============================] - 4s 162us/step - loss: 0.4375 - acc: 0.8190\n",
      "Epoch 9/20\n",
      "24000/24000 [==============================] - 4s 161us/step - loss: 0.4368 - acc: 0.8185\n",
      "Epoch 10/20\n",
      "24000/24000 [==============================] - 4s 161us/step - loss: 0.4364 - acc: 0.8191\n",
      "Epoch 11/20\n",
      "24000/24000 [==============================] - 4s 162us/step - loss: 0.4362 - acc: 0.8200\n",
      "Epoch 12/20\n",
      "24000/24000 [==============================] - 4s 161us/step - loss: 0.4353 - acc: 0.8190\n",
      "Epoch 13/20\n",
      "24000/24000 [==============================] - 4s 162us/step - loss: 0.4355 - acc: 0.8192\n",
      "Epoch 14/20\n",
      "24000/24000 [==============================] - 4s 164us/step - loss: 0.4351 - acc: 0.8197\n",
      "Epoch 15/20\n",
      "24000/24000 [==============================] - 4s 163us/step - loss: 0.4346 - acc: 0.8194\n",
      "Epoch 16/20\n",
      "24000/24000 [==============================] - 4s 162us/step - loss: 0.4344 - acc: 0.8198\n",
      "Epoch 17/20\n",
      "24000/24000 [==============================] - 4s 161us/step - loss: 0.4344 - acc: 0.8192\n",
      "Epoch 18/20\n",
      "24000/24000 [==============================] - 4s 161us/step - loss: 0.4344 - acc: 0.8197\n",
      "Epoch 19/20\n",
      "24000/24000 [==============================] - 4s 167us/step - loss: 0.4335 - acc: 0.8186 1s - lo\n",
      "Epoch 20/20\n",
      "24000/24000 [==============================] - 4s 162us/step - loss: 0.4336 - acc: 0.8202\n"
     ]
    },
    {
     "data": {
      "text/plain": [
       "<keras.callbacks.History at 0x120ee4390>"
      ]
     },
     "execution_count": 10,
     "metadata": {},
     "output_type": "execute_result"
    }
   ],
   "source": [
    "model.fit(X_train, Y_train, epochs=20, batch_size=10)"
   ]
  },
  {
   "cell_type": "markdown",
   "metadata": {},
   "source": [
    "## Section 4: Testing the model and results\n",
    "\n",
    "In this section you will compute the accuracy of your model on the test data from Section 0. Make sure you very clearly have a cell that outputs and prints the percentage accuracy of your model. You will also include any code used to analyze the results here."
   ]
  },
  {
   "cell_type": "code",
   "execution_count": 11,
   "metadata": {},
   "outputs": [
    {
     "name": "stdout",
     "output_type": "stream",
     "text": [
      "Accurary: 82.2167%\n"
     ]
    }
   ],
   "source": [
    "score = model.evaluate(X_test,Y_test,verbose=False)\n",
    "print(\"Accurary: %.4f%%\" %(score[1]*100))"
   ]
  },
  {
   "cell_type": "code",
   "execution_count": 12,
   "metadata": {},
   "outputs": [
    {
     "name": "stdout",
     "output_type": "stream",
     "text": [
      "Train on 16079 samples, validate on 7921 samples\n",
      "Epoch 1/100\n",
      "Epoch 2/100\n",
      "Epoch 3/100\n",
      "Epoch 4/100\n",
      "Epoch 5/100\n",
      "Epoch 6/100\n",
      "Epoch 7/100\n",
      "Epoch 8/100\n",
      "Epoch 9/100\n",
      "Epoch 10/100\n",
      "Epoch 11/100\n",
      "Epoch 12/100\n",
      "Epoch 13/100\n",
      "Epoch 14/100\n",
      "Epoch 15/100\n",
      "Epoch 16/100\n",
      "Epoch 17/100\n",
      "Epoch 18/100\n",
      "Epoch 19/100\n",
      "Epoch 20/100\n",
      "Epoch 21/100\n",
      "Epoch 22/100\n",
      "Epoch 23/100\n",
      "Epoch 24/100\n",
      "Epoch 25/100\n",
      "Epoch 26/100\n",
      "Epoch 27/100\n",
      "Epoch 28/100\n",
      "Epoch 29/100\n",
      "Epoch 30/100\n",
      "Epoch 31/100\n",
      "Epoch 32/100\n",
      "Epoch 33/100\n",
      "Epoch 34/100\n",
      "Epoch 35/100\n",
      "Epoch 36/100\n",
      "Epoch 37/100\n",
      "Epoch 38/100\n",
      "Epoch 39/100\n",
      "Epoch 40/100\n",
      "Epoch 41/100\n",
      "Epoch 42/100\n",
      "Epoch 43/100\n",
      "Epoch 44/100\n",
      "Epoch 45/100\n",
      "Epoch 46/100\n",
      "Epoch 47/100\n",
      "Epoch 48/100\n",
      "Epoch 49/100\n",
      "Epoch 50/100\n",
      "Epoch 51/100\n",
      "Epoch 52/100\n",
      "Epoch 53/100\n",
      "Epoch 54/100\n",
      "Epoch 55/100\n",
      "Epoch 56/100\n",
      "Epoch 57/100\n",
      "Epoch 58/100\n",
      "Epoch 59/100\n",
      "Epoch 60/100\n",
      "Epoch 61/100\n",
      "Epoch 62/100\n",
      "Epoch 63/100\n",
      "Epoch 64/100\n",
      "Epoch 65/100\n",
      "Epoch 66/100\n",
      "Epoch 67/100\n",
      "Epoch 68/100\n",
      "Epoch 69/100\n",
      "Epoch 70/100\n",
      "Epoch 71/100\n",
      "Epoch 72/100\n",
      "Epoch 73/100\n",
      "Epoch 74/100\n",
      "Epoch 75/100\n",
      "Epoch 76/100\n",
      "Epoch 77/100\n",
      "Epoch 78/100\n",
      "Epoch 79/100\n",
      "Epoch 80/100\n",
      "Epoch 81/100\n",
      "Epoch 82/100\n",
      "Epoch 83/100\n",
      "Epoch 84/100\n",
      "Epoch 85/100\n",
      "Epoch 86/100\n",
      "Epoch 87/100\n",
      "Epoch 88/100\n",
      "Epoch 89/100\n",
      "Epoch 90/100\n",
      "Epoch 91/100\n",
      "Epoch 92/100\n",
      "Epoch 93/100\n",
      "Epoch 94/100\n",
      "Epoch 95/100\n",
      "Epoch 96/100\n",
      "Epoch 97/100\n",
      "Epoch 98/100\n",
      "Epoch 99/100\n",
      "Epoch 100/100\n",
      "dict_keys(['val_loss', 'val_acc', 'loss', 'acc'])\n"
     ]
    }
   ],
   "source": [
    "history = model.fit(X_train,Y_train,validation_split=0.33,epochs=100,batch_size=10,verbose=10)\n",
    "print(history.history.keys())"
   ]
  },
  {
   "cell_type": "code",
   "execution_count": 13,
   "metadata": {
    "scrolled": true
   },
   "outputs": [
    {
     "data": {
      "image/png": "[encoded data removed]",
      "text/plain": [
       "<Figure size 432x288 with 1 Axes>"
      ]
     },
     "metadata": {},
     "output_type": "display_data"
    }
   ],
   "source": [
    "# summarize history for accuracy\n",
    "plt.plot(history.history['acc'])\n",
    "plt.plot(history.history['val_acc'])\n",
    "plt.title('model accuracy')\n",
    "plt.ylabel('accuracy')\n",
    "plt.xlabel('epoch')\n",
    "plt.legend(['train', 'validation'], loc='upper left')\n",
    "plt.show()"
   ]
  },
  {
   "cell_type": "code",
   "execution_count": 14,
   "metadata": {},
   "outputs": [
    {
     "data": {
      "image/png": "[encoded data removed]",
      "text/plain": [
       "<Figure size 432x288 with 1 Axes>"
      ]
     },
     "metadata": {},
     "output_type": "display_data"
    }
   ],
   "source": [
    "# summarize history for loss\n",
    "plt.plot(history.history['loss'])\n",
    "plt.plot(history.history['val_loss'])\n",
    "plt.title('model loss')\n",
    "plt.ylabel('loss')\n",
    "plt.xlabel('epoch')\n",
    "plt.legend(['train', 'test'], loc='upper left')\n",
    "plt.show()"
   ]
  }
 ],
 "metadata": {
  "kernelspec": {
   "display_name": "Python 3",
   "language": "python",
   "name": "python3"
  },
  "language_info": {
   "codemirror_mode": {
    "name": "ipython",
    "version": 3
   },
   "file_extension": ".py",
   "mimetype": "text/x-python",
   "name": "python",
   "nbconvert_exporter": "python",
   "pygments_lexer": "ipython3",
   "version": "3.6.4"
  }
 },
 "nbformat": 4,
 "nbformat_minor": 2
}
