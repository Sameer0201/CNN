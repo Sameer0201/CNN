{
 "cells": [
  {
   "cell_type": "markdown",
   "metadata": {},
   "source": [
    "# Sameer Gupta\n",
    "\n",
    "\n",
    "#### Imports"
   ]
  },
  {
   "cell_type": "code",
   "execution_count": 2,
   "metadata": {},
   "outputs": [],
   "source": [
    "import numpy as np\n",
    "import pandas as pd\n",
    "import nltk\n",
    "import string\n",
    "\n",
    "from sklearn.model_selection import train_test_split\n",
    "from gensim.models import KeyedVectors\n",
    "from nltk.corpus import stopwords\n",
    "\n",
    "from keras.models import Model\n",
    "from keras.callbacks import EarlyStopping, ModelCheckpoint\n",
    "from keras.layers import Dense, Input, LSTM, Embedding, Dropout, Activation\n",
    "from keras.layers.merge import concatenate\n",
    "from keras.layers.normalization import BatchNormalization\n",
    "from keras.preprocessing import sequence\n",
    "from keras.preprocessing.text import Tokenizer\n",
    "from keras.preprocessing.sequence import pad_sequences"
   ]
  },
  {
   "cell_type": "markdown",
   "metadata": {},
   "source": [
    "#### Constants"
   ]
  },
  {
   "cell_type": "code",
   "execution_count": 3,
   "metadata": {},
   "outputs": [],
   "source": [
    "# Reproducibility\n",
    "np.random.seed(1234)\n",
    "\n",
    "MAX_SEQUENCE_LENGTH = 30\n",
    "MAX_NB_WORDS = 200000\n",
    "EMBEDDING_DIM = 300\n",
    "VALIDATION_SPLIT = 0.15"
   ]
  },
  {
   "cell_type": "markdown",
   "metadata": {},
   "source": [
    "## Section 1: Load Data\n",
    "\n",
    "There is no code for you to fill out in this section but please make sure you understand what the code is doing so you aren't confused in later parts. If you want to run this code on Colab, you can pass in the links to the CSV rather than the file path.\n",
    "\n",
    "You can find the training and testing data here: https://www.kaggle.com/c/quora-question-pairs/data\n",
    "\n",
    "#### File Paths"
   ]
  },
  {
   "cell_type": "code",
   "execution_count": 9,
   "metadata": {},
   "outputs": [],
   "source": [
    "TRAIN_CSV = 'train.csv'\n",
    "TEST_CSV = 'test.csv'\n",
    "EMBEDDING_FILE = 'GoogleNews-vectors-negative300.bin'"
   ]
  },
  {
   "cell_type": "code",
   "execution_count": 10,
   "metadata": {},
   "outputs": [],
   "source": [
    "train_df = pd.read_csv(TRAIN_CSV)\n",
    "test_df = pd.read_csv(TEST_CSV)"
   ]
  },
  {
   "cell_type": "code",
   "execution_count": 11,
   "metadata": {},
   "outputs": [
    {
     "data": {
      "text/html": [
       "<div>\n",
       "<style scoped>\n",
       "    .dataframe tbody tr th:only-of-type {\n",
       "        vertical-align: middle;\n",
       "    }\n",
       "\n",
       "    .dataframe tbody tr th {\n",
       "        vertical-align: top;\n",
       "    }\n",
       "\n",
       "    .dataframe thead th {\n",
       "        text-align: right;\n",
       "    }\n",
       "</style>\n",
       "<table border=\"1\" class=\"dataframe\">\n",
       "  <thead>\n",
       "    <tr style=\"text-align: right;\">\n",
       "      <th></th>\n",
       "      <th>id</th>\n",
       "      <th>qid1</th>\n",
       "      <th>qid2</th>\n",
       "      <th>question1</th>\n",
       "      <th>question2</th>\n",
       "      <th>is_duplicate</th>\n",
       "    </tr>\n",
       "  </thead>\n",
       "  <tbody>\n",
       "    <tr>\n",
       "      <th>0</th>\n",
       "      <td>0</td>\n",
       "      <td>1</td>\n",
       "      <td>2</td>\n",
       "      <td>What is the step by step guide to invest in sh...</td>\n",
       "      <td>What is the step by step guide to invest in sh...</td>\n",
       "      <td>0</td>\n",
       "    </tr>\n",
       "    <tr>\n",
       "      <th>1</th>\n",
       "      <td>1</td>\n",
       "      <td>3</td>\n",
       "      <td>4</td>\n",
       "      <td>What is the story of Kohinoor (Koh-i-Noor) Dia...</td>\n",
       "      <td>What would happen if the Indian government sto...</td>\n",
       "      <td>0</td>\n",
       "    </tr>\n",
       "    <tr>\n",
       "      <th>2</th>\n",
       "      <td>2</td>\n",
       "      <td>5</td>\n",
       "      <td>6</td>\n",
       "      <td>How can I increase the speed of my internet co...</td>\n",
       "      <td>How can Internet speed be increased by hacking...</td>\n",
       "      <td>0</td>\n",
       "    </tr>\n",
       "    <tr>\n",
       "      <th>3</th>\n",
       "      <td>3</td>\n",
       "      <td>7</td>\n",
       "      <td>8</td>\n",
       "      <td>Why am I mentally very lonely? How can I solve...</td>\n",
       "      <td>Find the remainder when [math]23^{24}[/math] i...</td>\n",
       "      <td>0</td>\n",
       "    </tr>\n",
       "    <tr>\n",
       "      <th>4</th>\n",
       "      <td>4</td>\n",
       "      <td>9</td>\n",
       "      <td>10</td>\n",
       "      <td>Which one dissolve in water quikly sugar, salt...</td>\n",
       "      <td>Which fish would survive in salt water?</td>\n",
       "      <td>0</td>\n",
       "    </tr>\n",
       "    <tr>\n",
       "      <th>5</th>\n",
       "      <td>5</td>\n",
       "      <td>11</td>\n",
       "      <td>12</td>\n",
       "      <td>Astrology: I am a Capricorn Sun Cap moon and c...</td>\n",
       "      <td>I'm a triple Capricorn (Sun, Moon and ascendan...</td>\n",
       "      <td>1</td>\n",
       "    </tr>\n",
       "    <tr>\n",
       "      <th>6</th>\n",
       "      <td>6</td>\n",
       "      <td>13</td>\n",
       "      <td>14</td>\n",
       "      <td>Should I buy tiago?</td>\n",
       "      <td>What keeps childern active and far from phone ...</td>\n",
       "      <td>0</td>\n",
       "    </tr>\n",
       "    <tr>\n",
       "      <th>7</th>\n",
       "      <td>7</td>\n",
       "      <td>15</td>\n",
       "      <td>16</td>\n",
       "      <td>How can I be a good geologist?</td>\n",
       "      <td>What should I do to be a great geologist?</td>\n",
       "      <td>1</td>\n",
       "    </tr>\n",
       "    <tr>\n",
       "      <th>8</th>\n",
       "      <td>8</td>\n",
       "      <td>17</td>\n",
       "      <td>18</td>\n",
       "      <td>When do you use シ instead of し?</td>\n",
       "      <td>When do you use \"&amp;\" instead of \"and\"?</td>\n",
       "      <td>0</td>\n",
       "    </tr>\n",
       "    <tr>\n",
       "      <th>9</th>\n",
       "      <td>9</td>\n",
       "      <td>19</td>\n",
       "      <td>20</td>\n",
       "      <td>Motorola (company): Can I hack my Charter Moto...</td>\n",
       "      <td>How do I hack Motorola DCX3400 for free internet?</td>\n",
       "      <td>0</td>\n",
       "    </tr>\n",
       "  </tbody>\n",
       "</table>\n",
       "</div>"
      ],
      "text/plain": [
       "   id  qid1  qid2                                          question1  \\\n",
       "0   0     1     2  What is the step by step guide to invest in sh...   \n",
       "1   1     3     4  What is the story of Kohinoor (Koh-i-Noor) Dia...   \n",
       "2   2     5     6  How can I increase the speed of my internet co...   \n",
       "3   3     7     8  Why am I mentally very lonely? How can I solve...   \n",
       "4   4     9    10  Which one dissolve in water quikly sugar, salt...   \n",
       "5   5    11    12  Astrology: I am a Capricorn Sun Cap moon and c...   \n",
       "6   6    13    14                                Should I buy tiago?   \n",
       "7   7    15    16                     How can I be a good geologist?   \n",
       "8   8    17    18                    When do you use シ instead of し?   \n",
       "9   9    19    20  Motorola (company): Can I hack my Charter Moto...   \n",
       "\n",
       "                                           question2  is_duplicate  \n",
       "0  What is the step by step guide to invest in sh...             0  \n",
       "1  What would happen if the Indian government sto...             0  \n",
       "2  How can Internet speed be increased by hacking...             0  \n",
       "3  Find the remainder when [math]23^{24}[/math] i...             0  \n",
       "4            Which fish would survive in salt water?             0  \n",
       "5  I'm a triple Capricorn (Sun, Moon and ascendan...             1  \n",
       "6  What keeps childern active and far from phone ...             0  \n",
       "7          What should I do to be a great geologist?             1  \n",
       "8              When do you use \"&\" instead of \"and\"?             0  \n",
       "9  How do I hack Motorola DCX3400 for free internet?             0  "
      ]
     },
     "execution_count": 11,
     "metadata": {},
     "output_type": "execute_result"
    }
   ],
   "source": [
    "train_df.head(10)"
   ]
  },
  {
   "cell_type": "code",
   "execution_count": 12,
   "metadata": {
    "scrolled": true
   },
   "outputs": [
    {
     "data": {
      "text/html": [
       "<div>\n",
       "<style scoped>\n",
       "    .dataframe tbody tr th:only-of-type {\n",
       "        vertical-align: middle;\n",
       "    }\n",
       "\n",
       "    .dataframe tbody tr th {\n",
       "        vertical-align: top;\n",
       "    }\n",
       "\n",
       "    .dataframe thead th {\n",
       "        text-align: right;\n",
       "    }\n",
       "</style>\n",
       "<table border=\"1\" class=\"dataframe\">\n",
       "  <thead>\n",
       "    <tr style=\"text-align: right;\">\n",
       "      <th></th>\n",
       "      <th>test_id</th>\n",
       "      <th>question1</th>\n",
       "      <th>question2</th>\n",
       "    </tr>\n",
       "  </thead>\n",
       "  <tbody>\n",
       "    <tr>\n",
       "      <th>0</th>\n",
       "      <td>0</td>\n",
       "      <td>How does the Surface Pro himself 4 compare wit...</td>\n",
       "      <td>Why did Microsoft choose core m3 and not core ...</td>\n",
       "    </tr>\n",
       "    <tr>\n",
       "      <th>1</th>\n",
       "      <td>1</td>\n",
       "      <td>Should I have a hair transplant at age 24? How...</td>\n",
       "      <td>How much cost does hair transplant require?</td>\n",
       "    </tr>\n",
       "    <tr>\n",
       "      <th>2</th>\n",
       "      <td>2</td>\n",
       "      <td>What but is the best way to send money from Ch...</td>\n",
       "      <td>What you send money to China?</td>\n",
       "    </tr>\n",
       "    <tr>\n",
       "      <th>3</th>\n",
       "      <td>3</td>\n",
       "      <td>Which food not emulsifiers?</td>\n",
       "      <td>What foods fibre?</td>\n",
       "    </tr>\n",
       "    <tr>\n",
       "      <th>4</th>\n",
       "      <td>4</td>\n",
       "      <td>How \"aberystwyth\" start reading?</td>\n",
       "      <td>How their can I start reading?</td>\n",
       "    </tr>\n",
       "  </tbody>\n",
       "</table>\n",
       "</div>"
      ],
      "text/plain": [
       "   test_id                                          question1  \\\n",
       "0        0  How does the Surface Pro himself 4 compare wit...   \n",
       "1        1  Should I have a hair transplant at age 24? How...   \n",
       "2        2  What but is the best way to send money from Ch...   \n",
       "3        3                        Which food not emulsifiers?   \n",
       "4        4                   How \"aberystwyth\" start reading?   \n",
       "\n",
       "                                           question2  \n",
       "0  Why did Microsoft choose core m3 and not core ...  \n",
       "1        How much cost does hair transplant require?  \n",
       "2                      What you send money to China?  \n",
       "3                                  What foods fibre?  \n",
       "4                     How their can I start reading?  "
      ]
     },
     "execution_count": 12,
     "metadata": {},
     "output_type": "execute_result"
    }
   ],
   "source": [
    "test_df.head()"
   ]
  },
  {
   "cell_type": "markdown",
   "metadata": {},
   "source": [
    "## Section 2: Data Processing\n",
    "\n",
    "In this section we will proccess our data into a format suitable for inputting into a LSTM or more specifically, a Siamese LSTM. The general structure we will follow is:\n",
    "\n",
    "1. Preprocess the text (clean it up)\n",
    "2. Tokenize every word in the text (replace each word with an index number)\n",
    "3. Pad every sequence of indices with zeros to make them all the same length\n",
    "4. Build an embedding matrix that we can use to look up every indices word embedding\n",
    "\n",
    "In this section, you will be responsible for both preprocessing the text in the function `clean_text` and also building the embedding matrix. Fillers for where you should write your code are marked with #YOUR CODE HERE.\n",
    "\n",
    "Rather than training our own word embeddings on the dataset, it is generally better to use a pretrained one since it is much more accurate. In our example, we will be using a Word2Vec model trained on Google News but you are free to use any you would like. Spacy's Glove model is a good choice.\n",
    "\n",
    "You can download the pretrained model here: https://drive.google.com/file/d/0B7XkCwpI5KDYNlNUTTlSS21pQmM/edit?usp=sharing\n",
    "\n",
    "#### Load Pretrained Word2Vec Model\n",
    "\n",
    "We will load the model into a Keyed Vectors file. Using this, we can get the embedding of any word by calling `.word_vec(word)` and we can get all the words in the model's vocabulary through `.vocab`. It is important to note that if the word does not exist in the model's vocabulary, you can NOT get it's embedding and so standard practice is to ignore it or initialize it to a random or zero vector."
   ]
  },
  {
   "cell_type": "code",
   "execution_count": 13,
   "metadata": {},
   "outputs": [],
   "source": [
    "word2vec = KeyedVectors.load_word2vec_format(EMBEDDING_FILE, binary=True)"
   ]
  },
  {
   "cell_type": "code",
   "execution_count": 30,
   "metadata": {},
   "outputs": [
    {
     "name": "stdout",
     "output_type": "stream",
     "text": [
      "300\n"
     ]
    }
   ],
   "source": [
    "print(len(word2vec.word_vec(\"key\")))"
   ]
  },
  {
   "cell_type": "markdown",
   "metadata": {},
   "source": [
    "### Preprocessing (TODO)\n",
    "\n",
    "Please preprocess the text. This is a standard practice to make sure that the text isn't noisy. Some examples of what you can do here are:\n",
    "\n",
    "* Removing stop words\n",
    "* Removing punctuation\n",
    "* Getting rid of stuff like \"what's\" and making it \"what is'\n",
    "* Stemming words so they are all the same tense (e.g. ran -> run)"
   ]
  },
  {
   "cell_type": "code",
   "execution_count": 20,
   "metadata": {},
   "outputs": [],
   "source": [
    "def clean_text(text):\n",
    "    text = str(text)\n",
    "    \n",
    "    # YOUR CODE HERE\n",
    "    stop_words = set(stopwords.words('english'))\n",
    "    #print(text)\n",
    "    text = ' '.join([word for word in text.split() if word not in stop_words])\n",
    "    #print(text)\n",
    "    text = text.translate(string.punctuation)\n",
    "    #print(text)\n",
    "    #text = ''.join([WordNetLemmatizer().lemmatize(word,'v') for word in text.split()])\n",
    "    \n",
    "    # Return type should be str\n",
    "    return text"
   ]
  },
  {
   "cell_type": "markdown",
   "metadata": {},
   "source": [
    "Applying the preprocessing `clean_text` function to every element in the training and testing data."
   ]
  },
  {
   "cell_type": "code",
   "execution_count": 21,
   "metadata": {},
   "outputs": [
    {
     "name": "stdout",
     "output_type": "stream",
     "text": [
      "Loaded Training Data\n",
      "Loaded Testing Data\n"
     ]
    }
   ],
   "source": [
    "X_train_1 = [clean_text(x) for x in train_df['question1']]\n",
    "X_train_2 = [clean_text(x) for x in train_df['question2']]\n",
    "labels = train_df['is_duplicate']\n",
    "print('Loaded Training Data')\n",
    "\n",
    "X_test_1 = [clean_text(x) for x in test_df['question1']]\n",
    "X_test_2 = [clean_text(x) for x in test_df['question2']]\n",
    "print('Loaded Testing Data')"
   ]
  },
  {
   "cell_type": "code",
   "execution_count": 22,
   "metadata": {},
   "outputs": [
    {
     "name": "stdout",
     "output_type": "stream",
     "text": [
      "What manipulation mean?\n",
      "What does manipulation mean?\n"
     ]
    }
   ],
   "source": [
    "print(X_train_1[16])\n",
    "print(train_df['question1'][16])"
   ]
  },
  {
   "cell_type": "markdown",
   "metadata": {},
   "source": [
    "### Tokenizer\n",
    "\n",
    "To avoid manually having to assign indices and filtering out unfrequent words, we can use a Tokenizer to do this for us. It essentially creates a map of every unique word and an assigned index to it. We specify a parameter called `num_words` which says to only care about the top 20000 most frequent words. "
   ]
  },
  {
   "cell_type": "code",
   "execution_count": 23,
   "metadata": {},
   "outputs": [
    {
     "name": "stdout",
     "output_type": "stream",
     "text": [
      "Finished Building Tokenizer\n"
     ]
    }
   ],
   "source": [
    "MAX_NB_WORDS = 20000\n",
    "tokenizer = Tokenizer(num_words=MAX_NB_WORDS)\n",
    "tokenizer.fit_on_texts(X_train_1 + X_train_2 + X_test_1 + X_test_2)\n",
    "print('Finished Building Tokenizer')"
   ]
  },
  {
   "cell_type": "markdown",
   "metadata": {},
   "source": [
    "Applying the tokenizer to the training and testing data."
   ]
  },
  {
   "cell_type": "code",
   "execution_count": 24,
   "metadata": {},
   "outputs": [
    {
     "name": "stdout",
     "output_type": "stream",
     "text": [
      "Finished Tokenizing Training\n",
      "Finished Tokenizing Testing\n"
     ]
    }
   ],
   "source": [
    "train_sequences_1 = tokenizer.texts_to_sequences(X_train_1)\n",
    "train_sequences_2 = tokenizer.texts_to_sequences(X_train_2)\n",
    "print('Finished Tokenizing Training')\n",
    "\n",
    "test_sequences_1 = tokenizer.texts_to_sequences(X_test_1)\n",
    "test_sequences_2 = tokenizer.texts_to_sequences(X_test_2)\n",
    "print('Finished Tokenizing Testing')"
   ]
  },
  {
   "cell_type": "markdown",
   "metadata": {},
   "source": [
    "Number of unique words in tokenizer. Has to be <= 20,000."
   ]
  },
  {
   "cell_type": "code",
   "execution_count": 25,
   "metadata": {},
   "outputs": [
    {
     "name": "stdout",
     "output_type": "stream",
     "text": [
      "Found 137031 unique tokens\n"
     ]
    }
   ],
   "source": [
    "word_index = tokenizer.word_index\n",
    "print('Found %s unique tokens' % len(word_index))"
   ]
  },
  {
   "cell_type": "markdown",
   "metadata": {},
   "source": [
    "Pad sequences all to the same length of 30 words."
   ]
  },
  {
   "cell_type": "code",
   "execution_count": 26,
   "metadata": {},
   "outputs": [
    {
     "name": "stdout",
     "output_type": "stream",
     "text": [
      "Shape of data tensor: (404290, 30)\n",
      "Shape of label tensor: (404290,)\n",
      "Finished Padding Training\n",
      "Finished Padding Testing\n"
     ]
    }
   ],
   "source": [
    "train_data_1 = pad_sequences(train_sequences_1, maxlen=MAX_SEQUENCE_LENGTH)\n",
    "train_data_2 = pad_sequences(train_sequences_2, maxlen=MAX_SEQUENCE_LENGTH)\n",
    "labels = np.array(labels)\n",
    "print('Shape of data tensor:', train_data_1.shape)\n",
    "print('Shape of label tensor:', labels.shape)\n",
    "print('Finished Padding Training')\n",
    "\n",
    "test_data_1 = pad_sequences(test_sequences_1, maxlen=MAX_SEQUENCE_LENGTH)\n",
    "test_data_2 = pad_sequences(test_sequences_2, maxlen=MAX_SEQUENCE_LENGTH)\n",
    "print('Finished Padding Testing')"
   ]
  },
  {
   "cell_type": "markdown",
   "metadata": {},
   "source": [
    "### Embedding Matrix (TODO)\n",
    "\n",
    "The embedding matrix is a `n x m` matrix where `n` is the number of words and `m` is the dimension of the embedding. In our case, `m=300` and `n=20000`. We take the min between the number of unique words in our tokenizer and max words in case there are less unique words than the max we specified. \n",
    "\n",
    "Row `i` in the matrix should contain the embedding of the word with index `i` in the tokenizer. An easy way to create this would be to iterate over `word_index.items()` which gives you the word and it's index. Keep in mind that you can't generate an embedding for a word not in your word2vec model vocabulary."
   ]
  },
  {
   "cell_type": "code",
   "execution_count": 40,
   "metadata": {},
   "outputs": [
    {
     "name": "stdout",
     "output_type": "stream",
     "text": [
      "300\n"
     ]
    }
   ],
   "source": [
    "nb_words = min(MAX_NB_WORDS, len(word_index))\n",
    "\n",
    "embedding_matrix = np.zeros((nb_words, EMBEDDING_DIM))\n",
    "\n",
    "print(len(embedding_matrix[0]))\n",
    "\n",
    "count = 0;\n",
    "\n",
    "for key, value in word_index.items():\n",
    "    while(count < nb_words):\n",
    "        embedding_matrix[count] = word2vec.word_vec(key)\n",
    "        count += 1\n",
    "    #print(key)\n",
    "    #print(value)   \n",
    "# YOUR CODE HERE"
   ]
  },
  {
   "cell_type": "code",
   "execution_count": 44,
   "metadata": {},
   "outputs": [
    {
     "name": "stdout",
     "output_type": "stream",
     "text": [
      "[ 0.13964844 -0.00616455  0.21484375  0.07275391 -0.16113281  0.07568359\n",
      "  0.16796875 -0.20117188  0.12597656  0.00915527  0.05249023 -0.15136719\n",
      " -0.02758789  0.04199219 -0.234375    0.13867188 -0.02600098  0.07910156\n",
      "  0.02746582 -0.13085938 -0.02478027  0.10009766 -0.07910156 -0.07714844\n",
      "  0.03759766  0.16894531  0.05371094 -0.05200195  0.14453125 -0.04370117\n",
      " -0.12597656  0.06884766 -0.10595703 -0.14550781 -0.00331116  0.01367188\n",
      "  0.13964844  0.01660156  0.03417969  0.16113281 -0.01080322  0.06689453\n",
      "  0.06835938 -0.15136719 -0.16894531  0.03295898 -0.06884766  0.06787109\n",
      " -0.07373047  0.08300781  0.05761719  0.14550781 -0.11865234 -0.13671875\n",
      "  0.12402344  0.04296875 -0.11962891 -0.08154297  0.06494141 -0.05639648\n",
      " -0.04394531  0.1484375  -0.07714844  0.04614258 -0.02624512 -0.06591797\n",
      "  0.04980469  0.08886719 -0.01647949 -0.02294922  0.10546875  0.04199219\n",
      "  0.11035156 -0.08251953 -0.13574219 -0.07324219  0.1015625   0.05371094\n",
      " -0.07275391  0.08496094 -0.04443359 -0.078125    0.08398438 -0.00613403\n",
      " -0.20898438 -0.25        0.00485229  0.22363281  0.01550293  0.04223633\n",
      "  0.07861328  0.203125   -0.25195312  0.01867676  0.03564453 -0.09863281\n",
      "  0.01745605  0.12597656 -0.04589844 -0.10253906 -0.10742188 -0.00558472\n",
      "  0.05517578 -0.10791016 -0.1015625   0.0222168  -0.07958984  0.04833984\n",
      " -0.06201172 -0.11132812  0.16210938 -0.09716797 -0.03222656  0.08056641\n",
      "  0.21386719 -0.03759766  0.06542969 -0.15527344  0.00300598 -0.04907227\n",
      " -0.23730469  0.13378906  0.10253906  0.07568359  0.01330566 -0.02770996\n",
      " -0.27929688  0.03112793  0.00092316 -0.10107422 -0.23730469 -0.21484375\n",
      " -0.08496094 -0.16894531  0.04370117 -0.20996094  0.00100708  0.07617188\n",
      " -0.03198242  0.14160156  0.15820312 -0.01275635  0.04150391 -0.03393555\n",
      "  0.12011719 -0.08789062 -0.03735352 -0.16503906 -0.14257812 -0.05200195\n",
      "  0.06542969  0.22070312 -0.34570312  0.10400391  0.05053711 -0.02368164\n",
      " -0.13671875 -0.13476562  0.09863281  0.06689453 -0.07666016  0.20214844\n",
      " -0.01806641 -0.06201172  0.00402832 -0.04174805  0.06835938 -0.04882812\n",
      "  0.12890625  0.14941406 -0.07763672  0.09179688  0.03686523 -0.08789062\n",
      " -0.01721191  0.15625     0.16210938 -0.11328125 -0.00830078 -0.11962891\n",
      " -0.16601562 -0.12792969  0.03759766 -0.16601562  0.10449219 -0.01220703\n",
      " -0.01940918  0.10009766  0.0098877   0.05957031  0.17285156  0.1484375\n",
      "  0.21191406 -0.06835938 -0.04443359 -0.12158203  0.03088379  0.02392578\n",
      " -0.05297852 -0.09912109 -0.00375366  0.15625    -0.06884766  0.10205078\n",
      "  0.00448608  0.05053711 -0.11035156 -0.15332031  0.03808594 -0.05249023\n",
      "  0.01226807  0.08935547  0.06005859 -0.08007812 -0.24902344 -0.01953125\n",
      "  0.25390625  0.00915527 -0.04345703  0.0612793  -0.06884766  0.1015625\n",
      " -0.09326172 -0.07763672  0.15625    -0.10546875  0.0625      0.13574219\n",
      " -0.06982422  0.12792969  0.05957031 -0.14550781  0.08251953 -0.12792969\n",
      "  0.14648438 -0.15332031 -0.01708984 -0.01672363  0.07958984  0.01794434\n",
      "  0.04199219 -0.12353516  0.03320312 -0.11083984 -0.09716797 -0.07568359\n",
      "  0.14453125 -0.10351562  0.05566406  0.03369141  0.01422119  0.17382812\n",
      "  0.10595703  0.03930664  0.27539062 -0.14453125  0.01672363  0.03369141\n",
      " -0.06542969 -0.1640625   0.00909424 -0.07910156 -0.14453125  0.03979492\n",
      " -0.05761719  0.078125    0.12402344  0.00671387 -0.19140625  0.04248047\n",
      "  0.02844238  0.10351562  0.33007812  0.25       -0.14160156  0.04003906\n",
      " -0.00201416 -0.12255859 -0.05297852  0.02587891  0.11669922 -0.07861328\n",
      "  0.03320312  0.14257812 -0.02856445 -0.06494141  0.03955078 -0.07421875\n",
      " -0.07080078  0.07714844 -0.1015625  -0.08300781 -0.11767578 -0.09619141\n",
      " -0.203125   -0.02490234  0.19335938  0.05712891  0.09960938 -0.234375  ]\n"
     ]
    }
   ],
   "source": [
    "print(embedding_matrix[0])"
   ]
  },
  {
   "cell_type": "markdown",
   "metadata": {},
   "source": [
    "### Formatting Data\n",
    "\n",
    "Here we just format the data into each half for the input (left and right). There is no code to write here but understand what it is doing."
   ]
  },
  {
   "cell_type": "code",
   "execution_count": 43,
   "metadata": {},
   "outputs": [
    {
     "name": "stdout",
     "output_type": "stream",
     "text": [
      "Finished Creating Training Data\n",
      "Finished Creating Validation Data\n"
     ]
    }
   ],
   "source": [
    "# Random shuffle\n",
    "perm = np.random.permutation(len(train_data_1))\n",
    "idx_train = perm[:int(len(train_data_1)*(1-VALIDATION_SPLIT))]\n",
    "idx_val = perm[int(len(train_data_1)*(1-VALIDATION_SPLIT)):]\n",
    "\n",
    "data_1_train = np.vstack((train_data_1[idx_train], train_data_2[idx_train]))\n",
    "data_2_train = np.vstack((train_data_2[idx_train], train_data_1[idx_train]))\n",
    "labels_train = np.concatenate((labels[idx_train], labels[idx_train]))\n",
    "print('Finished Creating Training Data')\n",
    "\n",
    "data_1_val = np.vstack((train_data_1[idx_val], train_data_2[idx_val]))\n",
    "data_2_val = np.vstack((train_data_2[idx_val], train_data_1[idx_val]))\n",
    "labels_val = np.concatenate((labels[idx_val], labels[idx_val]))\n",
    "print('Finished Creating Validation Data')"
   ]
  },
  {
   "cell_type": "markdown",
   "metadata": {},
   "source": [
    "## Section 3: Building the Model\n",
    "\n",
    "In this section you will write code to build the actual Siamese network. It should take in two arguments (question1 and question2) and then output a single number representing the probability that the two questions are duplicates.\n",
    "\n",
    "The model should take in each input sentence, replace it with it's embeddings, then run the new embedding vector through a LSTM layer. The output of each LSTM layer should be concatenated together and then a standard Dense model can be used.\n",
    "\n",
    "Make sure to note that you should only use one LSTM layer that is shared by both the left and the right half. \n",
    "\n",
    "Make sure to title your output layers as `predictions`."
   ]
  },
  {
   "cell_type": "markdown",
   "metadata": {},
   "source": [
    "### Build Model (TODO)"
   ]
  },
  {
   "cell_type": "code",
   "execution_count": 151,
   "metadata": {
    "scrolled": true
   },
   "outputs": [
    {
     "name": "stderr",
     "output_type": "stream",
     "text": [
      "/usr/local/lib/python3.6/site-packages/ipykernel_launcher.py:32: UserWarning: The `merge` function is deprecated and will be removed after 08/2017. Use instead layers from `keras.layers.merge`, e.g. `add`, `concatenate`, etc.\n",
      "/usr/local/lib/python3.6/site-packages/keras/legacy/layers.py:465: UserWarning: The `Merge` layer is deprecated and will be removed after 08/2017. Use instead layers from `keras.layers.merge`, e.g. `add`, `concatenate`, etc.\n",
      "  name=name)\n"
     ]
    }
   ],
   "source": [
    "# YOUR CODE HERE\n",
    "from keras.layers import Lambda, TimeDistributed, merge\n",
    "from keras import backend as K\n",
    "\n",
    "sequence_1_input = Input(shape=(MAX_SEQUENCE_LENGTH,))\n",
    "sequence_2_input = Input(shape=(MAX_SEQUENCE_LENGTH,))\n",
    "\n",
    "sharedLSTM = LSTM(128)\n",
    "\n",
    "embeddingLayer = Embedding(nb_words, \n",
    "                 EMBEDDING_DIM, \n",
    "                 weights=[embedding_matrix], \n",
    "                 input_length=MAX_SEQUENCE_LENGTH, \n",
    "                 trainable=False)\n",
    "\n",
    "\n",
    "question1 = embeddingLayer(sequence_1_input)\n",
    "question1 = sharedLSTM(question1)\n",
    "question1 = BatchNormalization()(question1)\n",
    "\n",
    "#q1 = TimeDistributed(Dense(EMBEDDING_DIM, activation='relu'))(q1)\n",
    "#q1 = Lambda(lambda x: K.max(x, axis=1), output_shape=(EMBEDDING_DIM, ))(q1)\n",
    "\n",
    "question2 = embeddingLayer(sequence_2_input)\n",
    "question2 = sharedLSTM(question2)\n",
    "question2 = BatchNormalization()(question2)\n",
    "#K.exp(-K.sum(K.abs(x[0]-x[1]), axis=1, keepdims=True))\n",
    "#(x[0][0], 1)\n",
    "\n",
    "#lambda x:  K.abs(x[0]-x[1]), output_shape=lambda x: x[0]\n",
    "\n",
    "merged = merge([question1,question2],mode = lambda x:K.exp(-K.sum(K.abs(x[0]-x[1]), axis=1, keepdims=True)), output_shape=lambda x:(x[0][0], 1))\n",
    "\n",
    "#merged = Dense(32, activation='relu')(merged)\n",
    "#merged = Dropout(0.1)(merged)\n",
    "merged = BatchNormalization()(merged)\n",
    "\n",
    "predictions = Dense(1, activation='sigmoid')(merged)"
   ]
  },
  {
   "cell_type": "markdown",
   "metadata": {},
   "source": [
    "### Compiling Model"
   ]
  },
  {
   "cell_type": "code",
   "execution_count": 152,
   "metadata": {},
   "outputs": [],
   "source": [
    "model = Model(inputs=[sequence_1_input, sequence_2_input], outputs=predictions)\n",
    "model.compile(loss='mean_squared_error', optimizer='nadam', metrics=['acc'])"
   ]
  },
  {
   "cell_type": "code",
   "execution_count": 153,
   "metadata": {},
   "outputs": [
    {
     "name": "stdout",
     "output_type": "stream",
     "text": [
      "__________________________________________________________________________________________________\n",
      "Layer (type)                    Output Shape         Param #     Connected to                     \n",
      "==================================================================================================\n",
      "input_73 (InputLayer)           (None, 30)           0                                            \n",
      "__________________________________________________________________________________________________\n",
      "input_74 (InputLayer)           (None, 30)           0                                            \n",
      "__________________________________________________________________________________________________\n",
      "embedding_64 (Embedding)        (None, 30, 300)      6000000     input_73[0][0]                   \n",
      "                                                                 input_74[0][0]                   \n",
      "__________________________________________________________________________________________________\n",
      "lstm_41 (LSTM)                  (None, 128)          219648      embedding_64[0][0]               \n",
      "                                                                 embedding_64[1][0]               \n",
      "__________________________________________________________________________________________________\n",
      "batch_normalization_55 (BatchNo (None, 128)          512         lstm_41[0][0]                    \n",
      "__________________________________________________________________________________________________\n",
      "batch_normalization_56 (BatchNo (None, 128)          512         lstm_41[1][0]                    \n",
      "__________________________________________________________________________________________________\n",
      "merge_21 (Merge)                (None, 1)            0           batch_normalization_55[0][0]     \n",
      "                                                                 batch_normalization_56[0][0]     \n",
      "__________________________________________________________________________________________________\n",
      "batch_normalization_57 (BatchNo (None, 1)            4           merge_21[0][0]                   \n",
      "__________________________________________________________________________________________________\n",
      "dense_87 (Dense)                (None, 1)            2           batch_normalization_57[0][0]     \n",
      "==================================================================================================\n",
      "Total params: 6,220,678\n",
      "Trainable params: 220,164\n",
      "Non-trainable params: 6,000,514\n",
      "__________________________________________________________________________________________________\n"
     ]
    }
   ],
   "source": [
    "model.summary()"
   ]
  },
  {
   "cell_type": "markdown",
   "metadata": {},
   "source": [
    "## Section 4: Training the Model\n",
    "\n",
    "In this section we will simply train the model. We use the Early Stopping argument to end training if the loss or accuracy don't improve within 3 epochs.\n",
    "\n",
    "Since the training time is incredibly long (30 minutes or so on a CPU), only train it for one epoch if you don't have time. For better results, train it to around 50 epochs."
   ]
  },
  {
   "cell_type": "code",
   "execution_count": 154,
   "metadata": {},
   "outputs": [
    {
     "name": "stdout",
     "output_type": "stream",
     "text": [
      "Train on 687292 samples, validate on 121288 samples\n",
      "Epoch 1/1\n",
      "687292/687292 [==============================] - 1270s 2ms/step - loss: 0.2366 - acc: 0.6313 - val_loss: 0.2337 - val_acc: 0.6277\n"
     ]
    }
   ],
   "source": [
    "early_stop = EarlyStopping(monitor='val_loss', patience=3)\n",
    "\n",
    "hist = model.fit([data_1_train, data_2_train], labels_train, \\\n",
    "        validation_data=([data_1_val, data_2_val], labels_val), \\\n",
    "        epochs=1, batch_size=2048, shuffle=True, \\\n",
    "        callbacks=[early_stop])"
   ]
  },
  {
   "cell_type": "code",
   "execution_count": 146,
   "metadata": {},
   "outputs": [
    {
     "data": {
      "text/plain": [
       "{'acc': [0.631344464906111],\n",
       " 'loss': [0.23686411862833046],\n",
       " 'val_acc': [0.6277290415727685],\n",
       " 'val_loss': [0.23371964311227816]}"
      ]
     },
     "execution_count": 146,
     "metadata": {},
     "output_type": "execute_result"
    }
   ],
   "source": [
    "hist.history"
   ]
  },
  {
   "cell_type": "code",
   "execution_count": null,
   "metadata": {},
   "outputs": [],
   "source": []
  }
 ],
 "metadata": {
  "kernelspec": {
   "display_name": "Python 3",
   "language": "python",
   "name": "python3"
  },
  "language_info": {
   "codemirror_mode": {
    "name": "ipython",
    "version": 3
   },
   "file_extension": ".py",
   "mimetype": "text/x-python",
   "name": "python",
   "nbconvert_exporter": "python",
   "pygments_lexer": "ipython3",
   "version": "3.6.4"
  }
 },
 "nbformat": 4,
 "nbformat_minor": 2
}
