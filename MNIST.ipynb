{
 "cells": [
  {
   "cell_type": "markdown",
   "metadata": {},
   "source": [
    "# Sameer Gupta\n",
    "\n",
    "MNIST Dataset"
   ]
  },
  {
   "cell_type": "markdown",
   "metadata": {},
   "source": [
    "## Section 0: Loading the data\n",
    "\n",
    "There is no code for you to fill out in this section but please make sure you understand what the code* is doing so you aren't confused in later parts. Basically, this section loads the training, testing, and validation data of the dog images for you."
   ]
  },
  {
   "cell_type": "code",
   "execution_count": 1,
   "metadata": {},
   "outputs": [
    {
     "name": "stderr",
     "output_type": "stream",
     "text": [
      "/home/ubuntu/anaconda3/lib/python3.6/site-packages/h5py/__init__.py:34: FutureWarning: Conversion of the second argument of issubdtype from `float` to `np.floating` is deprecated. In future, it will be treated as `np.float64 == np.dtype(float).type`.\n",
      "  from ._conv import register_converters as _register_converters\n",
      "Using TensorFlow backend.\n",
      "/home/ubuntu/anaconda3/lib/python3.6/site-packages/matplotlib/__init__.py:962: UserWarning: Duplicate key in file \"/home/ubuntu/.config/matplotlib/matplotlibrc\", line #2\n",
      "  (fname, cnt))\n",
      "/home/ubuntu/anaconda3/lib/python3.6/site-packages/matplotlib/__init__.py:962: UserWarning: Duplicate key in file \"/home/ubuntu/.config/matplotlib/matplotlibrc\", line #3\n",
      "  (fname, cnt))\n"
     ]
    }
   ],
   "source": [
    "import keras\n",
    "import numpy as np\n",
    "import scipy.misc\n",
    "import cv2\n",
    "import json\n",
    "import matplotlib.pyplot as plt\n",
    "from sklearn.datasets import load_files\n",
    "from keras.datasets import mnist\n",
    "from keras import applications\n",
    "from keras.layers import Conv2D, MaxPooling2D, GlobalAveragePooling2D\n",
    "from keras.layers.normalization import BatchNormalization\n",
    "from keras.layers import Dropout, Flatten, Lambda, Dense, Activation\n",
    "from keras.models import Model, Sequential\n",
    "from keras.utils import np_utils\n",
    "from keras.preprocessing import image    \n",
    "from matplotlib import pyplot\n",
    "from scipy.misc import toimage\n",
    "from tqdm import tqdm\n",
    "from glob import glob\n",
    "from PIL import Image\n",
    "from skimage.util import random_noise\n",
    "from skimage import exposure\n"
   ]
  },
  {
   "cell_type": "markdown",
   "metadata": {},
   "source": [
    "Loads the datasets and gets list of dog names (labels). `X_train`, `X_val`, and `X_test` contain lists of image paths to the data."
   ]
  },
  {
   "cell_type": "code",
   "execution_count": 2,
   "metadata": {},
   "outputs": [
    {
     "name": "stdout",
     "output_type": "stream",
     "text": [
      "x_train shape: (60000, 28, 28)\n",
      "60000 train samples\n",
      "10000 test samples\n"
     ]
    }
   ],
   "source": [
    "num_classes = 10\n",
    "\n",
    "(X_train, y_train), (X_test, y_test) = mnist.load_data()\n",
    "print('x_train shape:', X_train.shape)\n",
    "print(X_train.shape[0], 'train samples')\n",
    "print(X_test.shape[0], 'test samples')\n",
    "\n",
    "# Convert class vectors to binary class matrices.\n",
    "y_train = keras.utils.to_categorical(y_train, num_classes)\n",
    "y_test = keras.utils.to_categorical(y_test, num_classes)\n",
    "\n",
    "# Normalize Data\n",
    "X_train = X_train.astype('float32')\n",
    "X_test = X_test.astype('float32')\n",
    "X_train /= 255\n",
    "X_test /= 255"
   ]
  },
  {
   "cell_type": "markdown",
   "metadata": {},
   "source": [
    "Visualizing 9 of the images in the data."
   ]
  },
  {
   "cell_type": "code",
   "execution_count": 3,
   "metadata": {},
   "outputs": [
    {
     "data": {
      "image/png": "[encoded data removed]",
      "text/plain": [
       "<matplotlib.figure.Figure at 0x7f7a12368c88>"
      ]
     },
     "metadata": {},
     "output_type": "display_data"
    }
   ],
   "source": [
    "for i in range(0, 9):\n",
    "    pyplot.subplot(330 + 1 + i)\n",
    "    pyplot.imshow(X_train[i])\n",
    "# show the plot\n",
    "pyplot.show()"
   ]
  },
  {
   "cell_type": "markdown",
   "metadata": {},
   "source": [
    "## Section 1: Data augmentation\n",
    "\n",
    "In this section we want you to perform some sort of data augmentation as we learnt about in class. This is because we only have roughly 200 examples per label which in deep learning isn't generally enough. Therefore, to improve performance we can use data augmentation as a trick to generate more training examples.\n",
    "\n",
    "Make sure you try at least **TWO** methods of augmentation. Please explain each augmentation and what it does as well as visualizing at least one example of each augmentation. If you do choose to try more, make sure to incremement `NB_AUGMENTATIONS` by one each time.\n",
    "\n",
    "If you want to change the size of your image (smaller images train faster), you want to change `IMG_SIZE`.\n",
    "\n",
    "An example augmentation of flipping the image has already been done for you in `example_augment`."
   ]
  },
  {
   "cell_type": "code",
   "execution_count": 4,
   "metadata": {},
   "outputs": [],
   "source": [
    "def example_augment(img):\n",
    "    augmented_img = np.fliplr(img)\n",
    "    return augmented_img"
   ]
  },
  {
   "cell_type": "markdown",
   "metadata": {},
   "source": [
    "**Augmentation Explanation:** In this augmentation I use the skimage library to add random noise to the image."
   ]
  },
  {
   "cell_type": "code",
   "execution_count": 5,
   "metadata": {},
   "outputs": [],
   "source": [
    "def augmentation_1(img):   \n",
    "    augmented_img = random_noise(img)\n",
    "    return augmented_img"
   ]
  },
  {
   "cell_type": "markdown",
   "metadata": {},
   "source": [
    "**Augmentation Explanation:** Use the skimage library to add gamma correction to the image. "
   ]
  },
  {
   "cell_type": "code",
   "execution_count": 6,
   "metadata": {},
   "outputs": [],
   "source": [
    "def augmentation_2(img):\n",
    "    augmented_img = exposure.adjust_gamma(img, gamma=0.4, gain=0.9)\n",
    "    return augmented_img"
   ]
  },
  {
   "cell_type": "markdown",
   "metadata": {},
   "source": [
    "Visualizing your augmentations."
   ]
  },
  {
   "cell_type": "code",
   "execution_count": 7,
   "metadata": {},
   "outputs": [
    {
     "data": {
      "image/png": "[encoded data removed]",
      "text/plain": [
       "<matplotlib.figure.Figure at 0x7f7a0880b7b8>"
      ]
     },
     "metadata": {},
     "output_type": "display_data"
    }
   ],
   "source": [
    "sample_img = X_train[7]\n",
    "f, axarr = plt.subplots(2, 2)\n",
    "axarr[0, 0].imshow(sample_img)\n",
    "axarr[0, 0].set_title('Original')\n",
    "axarr[0, 1].imshow(example_augment(sample_img))\n",
    "axarr[0, 1].set_title('Example Augment')\n",
    "axarr[1, 0].imshow(augmentation_1(sample_img))\n",
    "axarr[1, 0].set_title('Augmentation 1')\n",
    "axarr[1, 1].imshow(augmentation_2(sample_img))\n",
    "axarr[1, 1].set_title('Augmentation 2')\n",
    "\n",
    "for ax in axarr.flat:\n",
    "    ax.label_outer()"
   ]
  },
  {
   "cell_type": "code",
   "execution_count": 8,
   "metadata": {},
   "outputs": [],
   "source": [
    "NB_AUGMENTATIONS = 0\n",
    "# Don't change this for MNIST.\n",
    "IMG_SIZE = 28\n",
    "\n",
    "def batch_generator(images, labels, augment=True, batch_size=32):\n",
    "    batch_images = []\n",
    "    batch_labels = []\n",
    "    sample_count = 0\n",
    "    \n",
    "    while True:\n",
    "        # Shuffle indices to minimize overfitting.\n",
    "        for i in np.random.permutation(images.shape[0]):\n",
    "\n",
    "            img = images[i]\n",
    "            img = np.expand_dims(img, axis=3)\n",
    "            label = labels[i]\n",
    "\n",
    "            batch_images.append(img)\n",
    "            batch_labels.append(label)\n",
    "            sample_count += 1\n",
    "\n",
    "            if augment:\n",
    "                # Perform Augmentation (Flipping the Image)\n",
    "                img_example_augment = example_augment(img)\n",
    "                batch_images.append(img_example_augment)\n",
    "                batch_labels.append(label)\n",
    "                \n",
    "                # Perform Augmentation 1\n",
    "                img_augment_1 = augmentation_1(img)\n",
    "                batch_images.append(img_augment_1)\n",
    "                batch_labels.append(label)\n",
    "\n",
    "                # Perform Augmentation 2\n",
    "                img_augment_2 = augmentation_2(img)\n",
    "                batch_images.append(img_augment_2)\n",
    "                batch_labels.append(label)\n",
    "\n",
    "            if ((sample_count % batch_size == 0) or (sample_count % len(images) == 0)):\n",
    "                yield np.array(batch_images), np.array(batch_labels)\n",
    "                # Reset batch.\n",
    "                batch_images = []\n",
    "                batch_labels = []"
   ]
  },
  {
   "cell_type": "markdown",
   "metadata": {},
   "source": [
    "## Section 2: Building the model\n",
    "\n",
    "In this section you will write all the code to build your Convolutional Neural Network model in Keras. The model should output `NUM_CLASSES` (10 in this case) values which sum up to 1 and are each the probability that the number represented in the photo. \n",
    "\n",
    "**Explanation:** The Model consists of a 2D convolutional layer which takes an input of (28,28,1). It is followed by Max pooling which pools the sum of the previous convoluted result. It is followed by drouput and then a similar set of layers but with more filters. This shrinks the image down to a smaller vector and gives us higher accuracy. \n",
    "\n",
    "Finally the result is put through a flatten which converts the image to a vector which is passed through a dense layer and then finally a 10 ouput softmax activation dense layer for classification."
   ]
  },
  {
   "cell_type": "code",
   "execution_count": 9,
   "metadata": {},
   "outputs": [
    {
     "name": "stdout",
     "output_type": "stream",
     "text": [
      "_________________________________________________________________\n",
      "Layer (type)                 Output Shape              Param #   \n",
      "=================================================================\n",
      "conv2d_1 (Conv2D)            (None, 26, 26, 32)        320       \n",
      "_________________________________________________________________\n",
      "max_pooling2d_1 (MaxPooling2 (None, 8, 8, 32)          0         \n",
      "_________________________________________________________________\n",
      "dropout_1 (Dropout)          (None, 8, 8, 32)          0         \n",
      "_________________________________________________________________\n",
      "conv2d_2 (Conv2D)            (None, 6, 6, 64)          18496     \n",
      "_________________________________________________________________\n",
      "max_pooling2d_2 (MaxPooling2 (None, 2, 2, 64)          0         \n",
      "_________________________________________________________________\n",
      "flatten_1 (Flatten)          (None, 256)               0         \n",
      "_________________________________________________________________\n",
      "dense_1 (Dense)              (None, 128)               32896     \n",
      "_________________________________________________________________\n",
      "dense_2 (Dense)              (None, 10)                1290      \n",
      "=================================================================\n",
      "Total params: 53,002\n",
      "Trainable params: 53,002\n",
      "Non-trainable params: 0\n",
      "_________________________________________________________________\n"
     ]
    }
   ],
   "source": [
    "model = Sequential()\n",
    "\n",
    "model.add(Conv2D(32,(3,3), input_shape=(28,28,1),activation='relu'))\n",
    "model.add(MaxPooling2D(pool_size=(3,3)))\n",
    "model.add(Dropout(0.2))\n",
    "model.add(Conv2D(64,(3,3),activation='relu'))\n",
    "model.add(MaxPooling2D(pool_size=(3,3)))\n",
    "model.add(Flatten())\n",
    "model.add(Dense(128, activation = 'relu'))\n",
    "model.add(Dense(10,activation='softmax'))\n",
    "\n",
    "model.summary()"
   ]
  },
  {
   "cell_type": "code",
   "execution_count": 10,
   "metadata": {},
   "outputs": [],
   "source": [
    "# # FOR YOU TO CHOOSE\n",
    "optimizer = 'adam'\n",
    "loss = 'categorical_crossentropy'\n",
    "\n",
    "model.compile(optimizer=optimizer, loss=loss, metrics=['accuracy'])"
   ]
  },
  {
   "cell_type": "markdown",
   "metadata": {},
   "source": [
    "## Section 3: Training the model\n",
    "\n",
    "The code to train your model has been done for you already as it is a bit different than before due to the batch generator. Notice how we set `augment` to false for the validation generator. It is important never to augment your validation nor testing data since that can bias (inflate or deflate) the accuracy scores. The code also saves your models weights in the end which we can use for testing later on so we don't have to retrain it entirely."
   ]
  },
  {
   "cell_type": "code",
   "execution_count": 14,
   "metadata": {},
   "outputs": [
    {
     "name": "stdout",
     "output_type": "stream",
     "text": [
      "Epoch 1/20\n",
      "60000/60000 [==============================] - 23s 387us/step - loss: 0.0111 - acc: 0.9961\n",
      "Epoch 2/20\n",
      "60000/60000 [==============================] - 23s 382us/step - loss: 0.0114 - acc: 0.9957\n",
      "Epoch 3/20\n",
      "60000/60000 [==============================] - 23s 386us/step - loss: 0.0111 - acc: 0.9959\n",
      "Epoch 4/20\n",
      "60000/60000 [==============================] - 23s 376us/step - loss: 0.0107 - acc: 0.9965\n",
      "Epoch 5/20\n",
      "60000/60000 [==============================] - 22s 372us/step - loss: 0.0092 - acc: 0.9971\n",
      "Epoch 6/20\n",
      "60000/60000 [==============================] - 23s 381us/step - loss: 0.0095 - acc: 0.9967\n",
      "Epoch 7/20\n",
      "60000/60000 [==============================] - 23s 384us/step - loss: 0.0085 - acc: 0.9972\n",
      "Epoch 8/20\n",
      "60000/60000 [==============================] - 23s 377us/step - loss: 0.0099 - acc: 0.9966\n",
      "Epoch 9/20\n",
      "60000/60000 [==============================] - 23s 376us/step - loss: 0.0100 - acc: 0.9967\n",
      "Epoch 10/20\n",
      "60000/60000 [==============================] - 23s 387us/step - loss: 0.0082 - acc: 0.9971\n",
      "Epoch 11/20\n",
      "60000/60000 [==============================] - 23s 387us/step - loss: 0.0076 - acc: 0.9975\n",
      "Epoch 12/20\n",
      "60000/60000 [==============================] - 23s 385us/step - loss: 0.0085 - acc: 0.9970\n",
      "Epoch 13/20\n",
      "60000/60000 [==============================] - 23s 389us/step - loss: 0.0078 - acc: 0.9972\n",
      "Epoch 14/20\n",
      "60000/60000 [==============================] - 23s 382us/step - loss: 0.0075 - acc: 0.9976\n",
      "Epoch 15/20\n",
      "60000/60000 [==============================] - 23s 387us/step - loss: 0.0071 - acc: 0.9974\n",
      "Epoch 16/20\n",
      "60000/60000 [==============================] - 23s 377us/step - loss: 0.0075 - acc: 0.9975\n",
      "Epoch 17/20\n",
      "60000/60000 [==============================] - 23s 382us/step - loss: 0.0073 - acc: 0.9971\n",
      "Epoch 18/20\n",
      "60000/60000 [==============================] - 24s 393us/step - loss: 0.0073 - acc: 0.9977\n",
      "Epoch 19/20\n",
      "60000/60000 [==============================] - 23s 378us/step - loss: 0.0068 - acc: 0.9977\n",
      "Epoch 20/20\n",
      "60000/60000 [==============================] - 23s 389us/step - loss: 0.0079 - acc: 0.9973\n"
     ]
    }
   ],
   "source": [
    "generator_train = batch_generator(X_train, y_train, augment=False)\n",
    "\n",
    "X_train = X_train.reshape(X_train.shape[0], 28, 28, 1)\n",
    "X_test = X_test.reshape(X_test.shape[0], 28, 28, 1)\n",
    "\n",
    "model.fit(X_train, y_train, epochs =20, verbose = 1,batch_size = 64)\n",
    "#model.fit_generator(\n",
    "  #      generator_train,\n",
    "   #     steps_per_epoch= (NB_AUGMENTATIONS+1) * len(X_train),\n",
    "    #    epochs=1,\n",
    "     #   verbose=1)\n",
    "\n",
    "# Save the weights for grading.\n",
    "model.save_weights('modelMIST.h5', True)\n",
    "with open('model.json', 'w') as outfile:\n",
    "    json.dump(model.to_json(), outfile)"
   ]
  },
  {
   "cell_type": "code",
   "execution_count": 16,
   "metadata": {},
   "outputs": [
    {
     "name": "stdout",
     "output_type": "stream",
     "text": [
      "dict_keys(['loss', 'acc'])\n"
     ]
    }
   ],
   "source": [
    "print(history.history.keys())"
   ]
  },
  {
   "cell_type": "code",
   "execution_count": 21,
   "metadata": {},
   "outputs": [
    {
     "data": {
      "image/png": "[encoded data removed]",
      "text/plain": [
       "<matplotlib.figure.Figure at 0x7f7a074505c0>"
      ]
     },
     "metadata": {},
     "output_type": "display_data"
    }
   ],
   "source": [
    "# Summarize history for loss\n",
    "plt.plot(history.history['loss'])\n",
    "#plt.plot(history.history['acc'])\n",
    "plt.title('Model Loss')\n",
    "plt.ylabel('Loss')\n",
    "plt.xlabel('Epoch')\n",
    "plt.legend(['train'], loc='upper right')\n",
    "plt.show()"
   ]
  },
  {
   "cell_type": "code",
   "execution_count": 22,
   "metadata": {},
   "outputs": [
    {
     "data": {
      "image/png": "[encoded data removed]",
      "text/plain": [
       "<matplotlib.figure.Figure at 0x7f7a0765fb00>"
      ]
     },
     "metadata": {},
     "output_type": "display_data"
    }
   ],
   "source": [
    "# Summarize history for accuracy\n",
    "#plt.plot(history.history['loss'])\n",
    "plt.plot(history.history['acc'])\n",
    "plt.title('Model Accuracy')\n",
    "plt.ylabel('Accuracy')\n",
    "plt.xlabel('Epoch')\n",
    "plt.legend(['train'], loc='upper right')\n",
    "plt.show()"
   ]
  },
  {
   "cell_type": "markdown",
   "metadata": {},
   "source": [
    "## Section 4: Evaluation"
   ]
  },
  {
   "cell_type": "markdown",
   "metadata": {},
   "source": [
    "In this section you will compute the accuracy of your model on the test data from Section 0. Make sure you very clearly have a cell that outputs and prints the percentage accuracy of your model. You will also include any code used to analyze the results here.\n",
    "\n",
    "A confusion matrix would be nice but since there are so many classes it will be hard to cleanly visualize. Instead f1, precision, and recall scores for each class would be cleaner to read.\n",
    "\n",
    "**Explanation:** First I included a percision report which includes the percision and f1 score of each digit. The accuracy of the model is 98.5% which is pretty impressive. After this I plot a confusion matrix which shows the accuracy of matching for the 10 classes. It shows the highest accuracy in predicting 1 and lowest for 5. Also it shows the amount of times it mismatches the test data to the wrong class. It is pretty low, the highest being for 7 being misunderstood for 2."
   ]
  },
  {
   "cell_type": "code",
   "execution_count": 24,
   "metadata": {},
   "outputs": [
    {
     "name": "stdout",
     "output_type": "stream",
     "text": [
      "Accurary: 98.5400%\n"
     ]
    }
   ],
   "source": [
    "score = model.evaluate(X_test,y_test,verbose=False)\n",
    "\n",
    "y_pred = model.predict(X_test)\n",
    "y_test_class = np.argmax(y_test,axis=1)\n",
    "y_pred_class = np.argmax(y_pred,axis=1)\n",
    "\n",
    "print(\"Accurary: %.4f%%\" %(score[1]*100))"
   ]
  },
  {
   "cell_type": "code",
   "execution_count": 31,
   "metadata": {},
   "outputs": [
    {
     "name": "stdout",
     "output_type": "stream",
     "text": [
      "             precision    recall  f1-score   support\n",
      "\n",
      "          0       0.99      1.00      0.99       980\n",
      "          1       0.96      1.00      0.98      1135\n",
      "          2       1.00      0.96      0.98      1032\n",
      "          3       0.97      1.00      0.98      1010\n",
      "          4       0.99      0.99      0.99       982\n",
      "          5       0.99      0.98      0.99       892\n",
      "          6       1.00      0.99      0.99       958\n",
      "          7       0.98      0.98      0.98      1028\n",
      "          8       0.99      0.99      0.99       974\n",
      "          9       0.99      0.98      0.98      1009\n",
      "\n",
      "avg / total       0.99      0.99      0.99     10000\n",
      "\n"
     ]
    }
   ],
   "source": [
    "import itertools\n",
    "from sklearn.metrics import classification_report, confusion_matrix, accuracy_score\n",
    "print(classification_report(y_test_class,y_pred_class))"
   ]
  },
  {
   "cell_type": "code",
   "execution_count": 32,
   "metadata": {},
   "outputs": [],
   "source": [
    "def plot_confusion_matrix(cm, classes,\n",
    "                          normalize=False,\n",
    "                          title='Confusion matrix',\n",
    "                          cmap=plt.cm.Blues):\n",
    "    \"\"\"\n",
    "    This function prints and plots the confusion matrix.\n",
    "    Normalization can be applied by setting `normalize=True`.\n",
    "    \"\"\"\n",
    "    if normalize:\n",
    "        cm = cm.astype('float') / cm.sum(axis=1)[:, np.newaxis]\n",
    "        print(\"Normalized confusion matrix\")\n",
    "    else:\n",
    "        print('Confusion matrix, without normalization')\n",
    "\n",
    "    plt.imshow(cm, interpolation='nearest', cmap=cmap)\n",
    "    plt.title(title)\n",
    "    plt.colorbar()\n",
    "    tick_marks = np.arange(len(classes))\n",
    "    plt.xticks(tick_marks, classes, rotation=45)\n",
    "    plt.yticks(tick_marks, classes)\n",
    "\n",
    "    fmt = '.2f' if normalize else 'd'\n",
    "    thresh = cm.max() / 2.\n",
    "    for i, j in itertools.product(range(cm.shape[0]), range(cm.shape[1])):\n",
    "        plt.text(j, i, format(cm[i, j], fmt),\n",
    "                 horizontalalignment=\"center\",\n",
    "                 color=\"white\" if cm[i, j] > thresh else \"black\")\n",
    "\n",
    "    plt.tight_layout()\n",
    "    plt.ylabel('True label')\n",
    "    plt.xlabel('Predicted label')"
   ]
  },
  {
   "cell_type": "code",
   "execution_count": 33,
   "metadata": {},
   "outputs": [
    {
     "name": "stdout",
     "output_type": "stream",
     "text": [
      "Confusion matrix, without normalization\n"
     ]
    },
    {
     "data": {
      "image/png": "[encoded data removed]",
      "text/plain": [
       "<matplotlib.figure.Figure at 0x7f7a073b2e80>"
      ]
     },
     "metadata": {},
     "output_type": "display_data"
    }
   ],
   "source": [
    "cnf_matrix = confusion_matrix(y_test_class,y_pred_class)\n",
    "np.set_printoptions(precision=2)\n",
    "plt.figure()\n",
    "plot_confusion_matrix(cnf_matrix, classes=['0','1','2','3','4','5','6','7','8','9'], title='Confusion matrix')"
   ]
  },
  {
   "cell_type": "markdown",
   "metadata": {},
   "source": [
    "\\* Project Code inspired and taken from Udacity's AI Nanodegress https://github.com/mahavird/dog-project. All credit for the helper methods to load the dataset goes to Udacity."
   ]
  }
 ],
 "metadata": {
  "kernelspec": {
   "display_name": "Python 3",
   "language": "python",
   "name": "python3"
  },
  "language_info": {
   "codemirror_mode": {
    "name": "ipython",
    "version": 3
   },
   "file_extension": ".py",
   "mimetype": "text/x-python",
   "name": "python",
   "nbconvert_exporter": "python",
   "pygments_lexer": "ipython3",
   "version": "3.6.4"
  }
 },
 "nbformat": 4,
 "nbformat_minor": 2
}
